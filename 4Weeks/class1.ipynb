{
 "cells": [
  {
   "cell_type": "code",
   "execution_count": 1,
   "metadata": {},
   "outputs": [
    {
     "name": "stdout",
     "output_type": "stream",
     "text": [
      "x는 1보다 큽니다.\n"
     ]
    }
   ],
   "source": [
    "# 1. if 문\n",
    "x = 100 \n",
    "if ( x > 1 ) :\n",
    "    print(\"x는 1보다 큽니다.\")"
   ]
  },
  {
   "cell_type": "code",
   "execution_count": 2,
   "metadata": {},
   "outputs": [
    {
     "name": "stdout",
     "output_type": "stream",
     "text": [
      "합격입니다.\n",
      "장학금도 수령하세요\n"
     ]
    }
   ],
   "source": [
    "# 2. if - else 문\n",
    "score = 60\n",
    "if score >= 60 :\n",
    "    print(\"합격입니다.\")\n",
    "    print(\"장학금도 수령하세요\")\n",
    "else :\n",
    "    print(\"불합격입니다. \")"
   ]
  },
  {
   "cell_type": "code",
   "execution_count": 3,
   "metadata": {},
   "outputs": [
    {
     "name": "stdout",
     "output_type": "stream",
     "text": [
      "홀수입니다.\n"
     ]
    }
   ],
   "source": [
    "# 3. if - else 문 활용 1\n",
    "num = int(input(\"양의 정수를 입력하시오 : \"))\n",
    "if ( num % 2 == 0) :\n",
    "    print(\"짝수입니다.\")\n",
    "else :\n",
    "    print(\"홀수입니다.\")\n"
   ]
  },
  {
   "cell_type": "code",
   "execution_count": 4,
   "metadata": {},
   "outputs": [
    {
     "name": "stdout",
     "output_type": "stream",
     "text": [
      "양수입니다.\n",
      "짝수입니다.\n"
     ]
    }
   ],
   "source": [
    "# 4. if - else 문 활용 2\n",
    "num = int(input(\"정수를 입력해주세요 : \"))\n",
    "if( num < 0) :\n",
    "    print(\"음수입니다.\")\n",
    "else :\n",
    "    print(\"양수입니다.\")\n",
    "    if( num % 2 == 0):\n",
    "        print(\"짝수입니다.\")\n",
    "    else : \n",
    "        print(\"홀수입니다.\")"
   ]
  },
  {
   "cell_type": "code",
   "execution_count": 5,
   "metadata": {},
   "outputs": [
    {
     "name": "stdout",
     "output_type": "stream",
     "text": [
      "본 영화를 보실 수 있습니다.\n"
     ]
    }
   ],
   "source": [
    "years = int(input(\"나이를 입력하시오 : \"))\n",
    "if (years >= 15) :\n",
    "    print(\"본 영화를 보실 수 있습니다.\")\n",
    "else :\n",
    "    print(\"본 영화를 보실 수 없습니다.\")"
   ]
  },
  {
   "cell_type": "code",
   "execution_count": 6,
   "metadata": {},
   "outputs": [
    {
     "name": "stdout",
     "output_type": "stream",
     "text": [
      "동전 던지기 게임을 시작합니다.\n",
      "앞면입니다.\n",
      "게임이 종료되었습니다.\n"
     ]
    }
   ],
   "source": [
    "# 6. random 활용\n",
    "import random\n",
    "\n",
    "print(\"동전 던지기 게임을 시작합니다.\")\n",
    "coin = random.randrange(2)\n",
    "if coin == 0 :\n",
    "    print(\"앞면입니다.\")\n",
    "else:\n",
    "    print(\"뒷면입니다.\")\n",
    "print(\"게임이 종료되었습니다.\")"
   ]
  },
  {
   "cell_type": "code",
   "execution_count": null,
   "metadata": {},
   "outputs": [],
   "source": []
  }
 ],
 "metadata": {
  "kernelspec": {
   "display_name": "base",
   "language": "python",
   "name": "python3"
  },
  "language_info": {
   "codemirror_mode": {
    "name": "ipython",
    "version": 3
   },
   "file_extension": ".py",
   "mimetype": "text/x-python",
   "name": "python",
   "nbconvert_exporter": "python",
   "pygments_lexer": "ipython3",
   "version": "3.12.7"
  }
 },
 "nbformat": 4,
 "nbformat_minor": 2
}
